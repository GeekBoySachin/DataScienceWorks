{
 "cells": [
  {
   "cell_type": "code",
   "execution_count": 1,
   "id": "9f7c6fc5",
   "metadata": {},
   "outputs": [
    {
     "name": "stdout",
     "output_type": "stream",
     "text": [
      "{'name', 'name2', 'name1'}\n"
     ]
    }
   ],
   "source": [
    "#1.Write a Python program to Extract Unique values dictionary values?\n",
    "\n",
    "dict1 = {1:\"name\",2:\"name\",3:\"name1\",4:\"name2\"}\n",
    "\n",
    "unique_values = set(dict1.values())\n",
    "print(unique_values)"
   ]
  },
  {
   "cell_type": "code",
   "execution_count": 2,
   "id": "ba630f8d",
   "metadata": {},
   "outputs": [
    {
     "name": "stdout",
     "output_type": "stream",
     "text": [
      "sum of all items:  12\n"
     ]
    }
   ],
   "source": [
    "#2.Write a Python program to find the sum of all items in a dictionary?\n",
    "\n",
    "dict2 = {\"1\":2,\"3\":4,\"5\":6}\n",
    "sum = 0\n",
    "for i in dict2.values():\n",
    "    sum +=i\n",
    "print(\"sum of all items: \",sum)"
   ]
  },
  {
   "cell_type": "code",
   "execution_count": 5,
   "id": "68a96320",
   "metadata": {},
   "outputs": [
    {
     "name": "stdout",
     "output_type": "stream",
     "text": [
      "after merge in dict1 : {1: 'name', 2: 'name', 3: 'name1', 4: 'name2', '1': 2, '3': 4, '5': 6}\n"
     ]
    }
   ],
   "source": [
    "#3.Write a Python program to Merging two Dictionaries?\n",
    "dict1 = {1:\"name\",2:\"name\",3:\"name1\",4:\"name2\"}\n",
    "dict2 = {\"1\":2,\"3\":4,\"5\":6}\n",
    "for i,k in dict2.items():\n",
    "    dict1[i] = k\n",
    "print(\"after merge in dict1 :\",dict1)"
   ]
  },
  {
   "cell_type": "code",
   "execution_count": 7,
   "id": "5ebb4b83",
   "metadata": {},
   "outputs": [
    {
     "name": "stdout",
     "output_type": "stream",
     "text": [
      "new Dictionary:  {1: 2, 2: 3, 3: 4}\n"
     ]
    }
   ],
   "source": [
    "#4.Write a Python program to convert key-values list to flat dictionary?\n",
    "\n",
    "list1 = [(1,2),(2,3),(3,4)]\n",
    "dict3 = {}\n",
    "for i in list1:\n",
    "    dict3[i[0]] = i[1]\n",
    "print(\"new Dictionary: \",dict3)"
   ]
  },
  {
   "cell_type": "code",
   "execution_count": 4,
   "id": "6043446b",
   "metadata": {},
   "outputs": [
    {
     "name": "stdout",
     "output_type": "stream",
     "text": [
      "OrderedDict([('a', 1), ('b', 2), ('c', 3), ('d', 4), ('new', 10)])\n",
      "OrderedDict([('new', 10), ('a', 1), ('b', 2), ('c', 3), ('d', 4)])\n"
     ]
    }
   ],
   "source": [
    "#5.Write a Python program to insertion at the beginning in OrderedDict?\n",
    "from collections import OrderedDict\n",
    "od = OrderedDict()\n",
    "od['a'] = 1\n",
    "od['b'] = 2\n",
    "od['c'] = 3\n",
    "od['d'] = 4\n",
    "\n",
    "# adding new element\n",
    "\n",
    "od['new'] = 10\n",
    "print(od)\n",
    "#inserting that element at the ebginning\n",
    "od.move_to_end('new',last=False)\n",
    "print(od)"
   ]
  },
  {
   "cell_type": "code",
   "execution_count": 15,
   "id": "12fa12ae",
   "metadata": {},
   "outputs": [
    {
     "name": "stdout",
     "output_type": "stream",
     "text": [
      "string is ordered\n",
      "string is not ordered\n"
     ]
    }
   ],
   "source": [
    "#6.Write a Python program to check order of character in string using OrderedDict()?\n",
    "from collections import OrderedDict\n",
    "\n",
    "inp_str1 = 'sachin'\n",
    "inp_str2 = 'abcdefzerd'\n",
    "\n",
    "def check_order(inp):\n",
    "    od = OrderedDict.fromkeys(inp)\n",
    "    i = 0\n",
    "    for k,v in od.items():\n",
    "        if k == inp[i]:\n",
    "            i +=1\n",
    "            \n",
    "    if i == len(inp):\n",
    "        print(\"string is ordered\")\n",
    "    else:\n",
    "        print(\"string is not ordered\")\n",
    "check_order(inp_str1)\n",
    "check_order(inp_str2)"
   ]
  },
  {
   "cell_type": "code",
   "execution_count": 31,
   "id": "5f54aa65",
   "metadata": {},
   "outputs": [
    {
     "name": "stdout",
     "output_type": "stream",
     "text": [
      "original: {'d': 4, 'b': 3, 'c': 1, 'a': 2}\n",
      "By keys: {'a': 2, 'b': 3, 'c': 1, 'd': 4}\n",
      "By Values: {'c': 1, 'a': 2, 'b': 3, 'd': 4}\n"
     ]
    }
   ],
   "source": [
    "#7.Write a Python program to sort Python Dictionaries by Key or Value?\n",
    "def sort_by_key(dict1):\n",
    "    temp_dict = {}\n",
    "    temp = list(dict1.keys())\n",
    "    temp.sort()\n",
    "    for i in temp:\n",
    "        temp_dict[i] = dict1[i]\n",
    "    return temp_dict\n",
    "\n",
    "def sort_by_value(dict1):\n",
    "    temp_dict = {}\n",
    "    for k,v in dict1.items():\n",
    "        temp_dict[v] = k\n",
    "    temp = list(temp_dict.keys())\n",
    "    temp.sort()\n",
    "    temp_dict2 = {}\n",
    "    for k in temp:\n",
    "        temp_dict2[temp_dict[k]] = k\n",
    "    return temp_dict2\n",
    "\n",
    "dict1 = {'d':4,'b':3,'c':1,'a':2}\n",
    "print(\"original:\",dict1)\n",
    "print(\"By keys:\",sort_by_key(dict1))\n",
    "print(\"By Values:\",sort_by_value(dict1))"
   ]
  },
  {
   "cell_type": "code",
   "execution_count": null,
   "id": "e1922088",
   "metadata": {},
   "outputs": [],
   "source": []
  }
 ],
 "metadata": {
  "kernelspec": {
   "display_name": "Python 3 (ipykernel)",
   "language": "python",
   "name": "python3"
  },
  "language_info": {
   "codemirror_mode": {
    "name": "ipython",
    "version": 3
   },
   "file_extension": ".py",
   "mimetype": "text/x-python",
   "name": "python",
   "nbconvert_exporter": "python",
   "pygments_lexer": "ipython3",
   "version": "3.9.6"
  }
 },
 "nbformat": 4,
 "nbformat_minor": 5
}
