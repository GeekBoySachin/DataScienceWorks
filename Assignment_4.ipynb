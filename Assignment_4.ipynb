{
 "cells": [
  {
   "cell_type": "markdown",
   "id": "bc217bcf",
   "metadata": {},
   "source": [
    "#1. What exactly is []?\n",
    "Answer: [] is box brackets. In python if we assign this to variable then that variable will hold an empty list."
   ]
  },
  {
   "cell_type": "code",
   "execution_count": 2,
   "id": "270e1574",
   "metadata": {},
   "outputs": [
    {
     "name": "stdout",
     "output_type": "stream",
     "text": [
      "[2, 4, 'hello', 6, 8, 10]\n"
     ]
    }
   ],
   "source": [
    "#2. In a list of values stored in a variable called spam,\n",
    "#how would you assign the value 'hello' as the third value? (Assume [2, 4, 6, 8, 10] are in spam.)\n",
    "#Answer:\n",
    "spam = [2, 4, 6, 8, 10]\n",
    "spam.insert(2,\"hello\")\n",
    "print(spam)"
   ]
  },
  {
   "cell_type": "markdown",
   "id": "4f2f2634",
   "metadata": {},
   "source": [
    "#Let's pretend the spam includes the list ['a', 'b', 'c', 'd'] for the next three queries."
   ]
  },
  {
   "cell_type": "markdown",
   "id": "21b8b142",
   "metadata": {},
   "source": [
    "\n",
    "#3. What is the value of spam[int(int('3' * 2) / 11)]?\n",
    "#Answer: d"
   ]
  },
  {
   "cell_type": "markdown",
   "id": "8d3f8678",
   "metadata": {},
   "source": [
    "#4. What is the value of spam[-1]?\n",
    "Answer : d"
   ]
  },
  {
   "cell_type": "markdown",
   "id": "2587ea94",
   "metadata": {},
   "source": [
    "#5. What is the value of spam[:2]?\n",
    "Answer: ['a','b']"
   ]
  },
  {
   "cell_type": "markdown",
   "id": "8cf8473a",
   "metadata": {},
   "source": [
    "#Let's pretend bacon has the list [3.14, 'cat,' 11, 'cat,' True] for the next three questions."
   ]
  },
  {
   "cell_type": "markdown",
   "id": "fffcf801",
   "metadata": {},
   "source": [
    "#6. What is the value of bacon.index('cat')?\n",
    "Answer: 1"
   ]
  },
  {
   "cell_type": "markdown",
   "id": "c84e9dd7",
   "metadata": {},
   "source": [
    "#7. How does bacon.append(99) change the look of the list value in bacon?\n",
    "Answer:[3.14, 'cat,' 11, 'cat,' True,99]"
   ]
  },
  {
   "cell_type": "markdown",
   "id": "2aa680e8",
   "metadata": {},
   "source": [
    "#8. How does bacon.remove('cat') change the look of the list in bacon?\n",
    "Answer: [3.14, 11, 'cat,' True,99]"
   ]
  },
  {
   "cell_type": "markdown",
   "id": "36cfa744",
   "metadata": {},
   "source": [
    "#9. What are the list concatenation and list replication operators?\n",
    "Answer: \n",
    "List Concatination operator: + (plus)\n",
    "example :\n",
    "a= [1,2,3]\n",
    "b = [4,5,6]\n",
    "c = a+b\n",
    "print(c)\n",
    "\n",
    "output: [1,2,3,4,5,6]\n",
    "\n",
    "List replication operator : * (asterisk)\n",
    "a= [1,2,3]\n",
    "print(a*2)\n",
    "\n",
    "output: [1,2,3,1,2,3]"
   ]
  },
  {
   "cell_type": "markdown",
   "id": "8429dc11",
   "metadata": {},
   "source": [
    "#10. What is difference between the list methods append() and insert()?\n",
    "Answer : \n",
    "append() - It inserts the element every time at the last.\n",
    "insert() - It takes element as well the position at which element should be inserted and inserts the element at that position."
   ]
  },
  {
   "cell_type": "markdown",
   "id": "06d21a72",
   "metadata": {},
   "source": [
    "#11. What are the two methods for removing items from a list?\n",
    "Answer:\n",
    "1.remove()\n",
    "2.pop()"
   ]
  },
  {
   "cell_type": "markdown",
   "id": "9d12ef2c",
   "metadata": {},
   "source": [
    "#12. Describe how list values and string values are identical.\n",
    "Answer:\n",
    "List values and string values both are iterables.We can iterate over the list and string values index wise one by one.Also we can perform some similar operation on both of them for example concatenation operator and replication operator for string and list is same.We can do slicing operation on list values and string values as well as we can access the values by there index."
   ]
  },
  {
   "cell_type": "markdown",
   "id": "ef074209",
   "metadata": {},
   "source": [
    "#13. What's the difference between tuples and lists?\n",
    "List is mutable and tuple are immutable. We can perform any modification on list but on tuple, once it is defined then we can not perform any modification on it."
   ]
  },
  {
   "cell_type": "markdown",
   "id": "80ede4e6",
   "metadata": {},
   "source": [
    "#14. How do you type a tuple value that only contains the integer 42?\n",
    "Answer: (42,)"
   ]
  },
  {
   "cell_type": "markdown",
   "id": "04359a1e",
   "metadata": {},
   "source": [
    "#15. How do you get a list value's tuple form? How do you get a tuple value's list form?\n",
    "Answer: By using tuple() method we can convert list into tuple form and by using list() we can convert tuple into list form."
   ]
  },
  {
   "cell_type": "markdown",
   "id": "b4c7020b",
   "metadata": {},
   "source": [
    "#16. Variables that \"contain\" list values are not necessarily lists themselves. Instead, what do they contain?\n",
    "Answer:They contain string values as \"contain\"."
   ]
  },
  {
   "cell_type": "markdown",
   "id": "a5519872",
   "metadata": {},
   "source": [
    "#17. How do you distinguish between copy.copy() and copy.deepcopy()?\n",
    "Answer: \n",
    "copy.copy() - It creates another object which hold the refrence of original collection. If we perform any change on this object then the changes will get reflected to original.\n",
    "copy.deepcopy() - It creates a copy of original collection and assign to the variable. any changes on this variable wont change the original collection."
   ]
  }
 ],
 "metadata": {
  "kernelspec": {
   "display_name": "Python 3 (ipykernel)",
   "language": "python",
   "name": "python3"
  },
  "language_info": {
   "codemirror_mode": {
    "name": "ipython",
    "version": 3
   },
   "file_extension": ".py",
   "mimetype": "text/x-python",
   "name": "python",
   "nbconvert_exporter": "python",
   "pygments_lexer": "ipython3",
   "version": "3.9.6"
  }
 },
 "nbformat": 4,
 "nbformat_minor": 5
}
