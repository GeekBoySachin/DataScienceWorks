{
 "cells": [
  {
   "cell_type": "code",
   "execution_count": 1,
   "id": "54de727f",
   "metadata": {},
   "outputs": [
    {
     "name": "stdout",
     "output_type": "stream",
     "text": [
      "1.242\n"
     ]
    }
   ],
   "source": [
    "#1.Write a Python program to convert kilometers to miles?\n",
    "\n",
    "def km_to_miles(km):\n",
    "    \"\"\"this function used convert kilometers to miles\"\"\"\n",
    "    return km*0.621"
   ]
  },
  {
   "cell_type": "code",
   "execution_count": 3,
   "id": "5bece066",
   "metadata": {},
   "outputs": [
    {
     "name": "stdout",
     "output_type": "stream",
     "text": [
      "212.0\n"
     ]
    }
   ],
   "source": [
    "#2.Write a Python program to convert Celsius to Fahrenheit?\n",
    "\n",
    "def celtofaren(cel):\n",
    "    \"\"\" this function used to cenvert Celsius to Fahrenheit\"\"\"\n",
    "    return (cel * 9/5) + 32\n",
    "    \n",
    "print(celtofaren(100))"
   ]
  },
  {
   "cell_type": "code",
   "execution_count": 6,
   "id": "90ca4df8",
   "metadata": {},
   "outputs": [
    {
     "name": "stdout",
     "output_type": "stream",
     "text": [
      "    August 2022\n",
      "Mo Tu We Th Fr Sa Su\n",
      " 1  2  3  4  5  6  7\n",
      " 8  9 10 11 12 13 14\n",
      "15 16 17 18 19 20 21\n",
      "22 23 24 25 26 27 28\n",
      "29 30 31\n",
      "\n"
     ]
    }
   ],
   "source": [
    "#3.Write a Python program to display calendar?\n",
    "\n",
    "import calendar\n",
    "def display_calendar(month,year):\n",
    "    \"\"\"This function used to display calendar\"\"\"\n",
    "    print(calendar.month(year, month))\n",
    "\n",
    "display_calendar(8,2022)"
   ]
  },
  {
   "cell_type": "code",
   "execution_count": 16,
   "id": "aa123077",
   "metadata": {},
   "outputs": [
    {
     "data": {
      "text/plain": [
       "((-1+1.7320508075688772j), (-1-1.7320508075688772j))"
      ]
     },
     "execution_count": 16,
     "metadata": {},
     "output_type": "execute_result"
    }
   ],
   "source": [
    "#4.Write a Python program to solve quadratic equation?\n",
    "import cmath\n",
    "def solve_qudratic(a,b,c):\n",
    "    \"\"\"This function used to solve qudratic equation\"\"\"\n",
    "    xplus = (cmath.sqrt(b*b - 4*a*c) - b)/(2*a)\n",
    "    xminus = ( - cmath.sqrt(b*b - 4*a*c) - b)/(2*a)\n",
    "    return xplus,xminus\n",
    "\n",
    "solve_qudratic(2,4,8)"
   ]
  },
  {
   "cell_type": "code",
   "execution_count": 19,
   "id": "3673c6d6",
   "metadata": {},
   "outputs": [
    {
     "name": "stdout",
     "output_type": "stream",
     "text": [
      "Values before swap:a,b:  2 3\n",
      "Values after swap:a,b:  3 2\n"
     ]
    }
   ],
   "source": [
    "#5.Write a Python program to swap two variables without temp variable?\n",
    "\n",
    "def swap(a,b):\n",
    "    \"\"\"this function swaps values without temp variable\"\"\"\n",
    "    print(\"Values before swap:a,b: \",a,b)\n",
    "    a , b = b ,a\n",
    "    print(\"Values after swap:a,b: \",a,b)\n",
    "    \n",
    "swap(2,3)"
   ]
  }
 ],
 "metadata": {
  "kernelspec": {
   "display_name": "Python 3 (ipykernel)",
   "language": "python",
   "name": "python3"
  },
  "language_info": {
   "codemirror_mode": {
    "name": "ipython",
    "version": 3
   },
   "file_extension": ".py",
   "mimetype": "text/x-python",
   "name": "python",
   "nbconvert_exporter": "python",
   "pygments_lexer": "ipython3",
   "version": "3.9.6"
  }
 },
 "nbformat": 4,
 "nbformat_minor": 5
}
