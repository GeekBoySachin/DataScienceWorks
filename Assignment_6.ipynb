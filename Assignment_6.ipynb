{
 "cells": [
  {
   "cell_type": "code",
   "execution_count": 2,
   "id": "c630ff59",
   "metadata": {},
   "outputs": [
    {
     "name": "stdout",
     "output_type": "stream",
     "text": [
      "hey first line here ends \n",
      "hey second line here\n"
     ]
    }
   ],
   "source": [
    "'''1. What are escape characters, and how do you use them?\n",
    "Answer: An escape charcter is used to insert illegal character into a string.\n",
    "we many escape character in python for example \\n,\\t etc\n",
    "\n",
    "We can use escape character as given below:'''\n",
    "a = \"hey first line here ends \\nhey second line here\"\n",
    "print(a)"
   ]
  },
  {
   "cell_type": "markdown",
   "id": "93fc35b5",
   "metadata": {},
   "source": [
    "#2. What do the escape characters n and t stand for?\n",
    "Answer: escape charcter n means new line and t means tabspace."
   ]
  },
  {
   "cell_type": "code",
   "execution_count": 6,
   "id": "e629ba21",
   "metadata": {},
   "outputs": [
    {
     "name": "stdout",
     "output_type": "stream",
     "text": [
      "division of 10\\2 = 5 \n"
     ]
    }
   ],
   "source": [
    "#3. What is the way to include backslash characters in a string?\n",
    "#Answer: we can include backslash characters in string by using double backslash.\n",
    "a = \"division of 10\\\\2 = 5 \"\n",
    "print(a)"
   ]
  },
  {
   "cell_type": "markdown",
   "id": "42d04ffc",
   "metadata": {},
   "source": [
    "#4. The string \"Howl's Moving Castle\" is a correct value. Why isn't the single quote character in the word Howl's not escaped a problem?\n",
    "Answer: In python we can use single quote inside the double quoted string and vice versa due to this the single quote in \"Howl's\" is not escaped."
   ]
  },
  {
   "cell_type": "code",
   "execution_count": 9,
   "id": "a6b36981",
   "metadata": {},
   "outputs": [
    {
     "data": {
      "text/plain": [
       "'\\n\\n\\n\\n\\n'"
      ]
     },
     "execution_count": 9,
     "metadata": {},
     "output_type": "execute_result"
    }
   ],
   "source": [
    "#5. How do you write a string of newlines if you don't want to use the n character?\n",
    "#Answer: we can use triple quotes for writing a string of new lines.\n",
    "#    example: \n",
    "\"\"\"\n",
    "\n",
    "\n",
    "\n",
    "\n",
    "\"\"\""
   ]
  },
  {
   "cell_type": "markdown",
   "id": "2880e35b",
   "metadata": {},
   "source": [
    "#6. What are the values of the given expressions?\n",
    "'Hello, world!'[1]\n",
    "output = e\n",
    "'Hello, world!'[0:5]\n",
    "output= Hell\n",
    "'Hello, world!'[:5]\n",
    "output = Hell\n",
    "'Hello, world!'[3:]\n",
    "output = o, world!"
   ]
  },
  {
   "cell_type": "markdown",
   "id": "ceca62a4",
   "metadata": {},
   "source": [
    "#7. What are the values of the following expressions?\n",
    "'Hello'.upper()\n",
    "output =HELLO\n",
    "'Hello'.upper().isupper()\n",
    "output = False\n",
    "'Hello'.upper().lower()\n",
    "output =hello"
   ]
  },
  {
   "cell_type": "markdown",
   "id": "367b6ec6",
   "metadata": {},
   "source": [
    "#8. What are the values of the following expressions?\n",
    "\n",
    "'Remember, remember, the fifth of July.'.split()\n",
    "output = ['Remember,','remember,','the','fifth','of','July.']\n",
    "\n",
    "'-'.join('There can only one.'.split())\n",
    "output = There-can-only-one."
   ]
  },
  {
   "cell_type": "markdown",
   "id": "36ad6912",
   "metadata": {},
   "source": [
    "#9. What are the methods for right-justifying, left-justifying, and centering a string?\n",
    "Answer: \n",
    "For right-justifying rjust() method is used example str.rjust()\n",
    "For left-justifying ljust() method is used example str.rjust()\n",
    "For centering center() method is used example str.rjust()"
   ]
  },
  {
   "cell_type": "markdown",
   "id": "56107797",
   "metadata": {},
   "source": [
    "#10. What is the best way to remove whitespace characters from the start or end?\n",
    "Answer: We use the rstrip() function to remove white spaces from end of string and lstrip() function to remove whitespaces from start of string."
   ]
  }
 ],
 "metadata": {
  "kernelspec": {
   "display_name": "Python 3 (ipykernel)",
   "language": "python",
   "name": "python3"
  },
  "language_info": {
   "codemirror_mode": {
    "name": "ipython",
    "version": 3
   },
   "file_extension": ".py",
   "mimetype": "text/x-python",
   "name": "python",
   "nbconvert_exporter": "python",
   "pygments_lexer": "ipython3",
   "version": "3.9.6"
  }
 },
 "nbformat": 4,
 "nbformat_minor": 5
}
