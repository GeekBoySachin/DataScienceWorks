{
 "cells": [
  {
   "cell_type": "code",
   "execution_count": 1,
   "id": "64bdad23",
   "metadata": {},
   "outputs": [
    {
     "name": "stdout",
     "output_type": "stream",
     "text": [
      "Yes\n",
      "No\n",
      "Yes\n"
     ]
    }
   ],
   "source": [
    "#1.Write a Python program to check if the given number is a Disarium Number?\n",
    "\n",
    "def check_disarium(n):\n",
    "    numbers = list(str(n))\n",
    "    c =1\n",
    "    sum =0\n",
    "    for i in numbers:\n",
    "        sum += int(i)**c\n",
    "        c +=1\n",
    "    if sum == n:\n",
    "        print(\"Yes\")\n",
    "    else:\n",
    "        print(\"No\")\n",
    "        \n",
    "check_disarium(175)\n",
    "check_disarium(100)\n",
    "check_disarium(89)"
   ]
  },
  {
   "cell_type": "code",
   "execution_count": 2,
   "id": "6ea7d40e",
   "metadata": {},
   "outputs": [
    {
     "name": "stdout",
     "output_type": "stream",
     "text": [
      "1\n",
      "2\n",
      "3\n",
      "4\n",
      "5\n",
      "6\n",
      "7\n",
      "8\n",
      "9\n",
      "89\n"
     ]
    }
   ],
   "source": [
    "#2.Write a Python program to print all disarium numbers between 1 to 100?\n",
    "def check_disarium2(n):\n",
    "    numbers = list(str(n))\n",
    "    c =1\n",
    "    sum =0\n",
    "    for i in numbers:\n",
    "        sum += int(i)**c\n",
    "        c +=1\n",
    "    if sum == n:\n",
    "       return True\n",
    "    else:\n",
    "        return False\n",
    "for i in range(1,101):\n",
    "    if check_disarium2(i):\n",
    "        print(i)"
   ]
  },
  {
   "cell_type": "code",
   "execution_count": 3,
   "id": "9bf322c8",
   "metadata": {},
   "outputs": [
    {
     "name": "stdout",
     "output_type": "stream",
     "text": [
      "Yes\n",
      "No\n"
     ]
    }
   ],
   "source": [
    "#3.Write a Python program to check if the given number is Happy Number?\n",
    "def num_sum(num):  \n",
    "    rem = sum = 0;  \n",
    "    while(num > 0):  \n",
    "        rem = num%10;  \n",
    "        sum = sum + (rem*rem);  \n",
    "        num = num//10;  \n",
    "    return sum;  \n",
    "def ishappy(num):\n",
    "    n=num\n",
    "    while True:\n",
    "        n = num_sum(n)\n",
    "        if n ==1:\n",
    "            print(\"Yes\")\n",
    "            break\n",
    "        elif  n==4:\n",
    "            print(\"No\")\n",
    "            break\n",
    "        \n",
    "ishappy(13)\n",
    "ishappy(9)"
   ]
  },
  {
   "cell_type": "code",
   "execution_count": 4,
   "id": "8c2ffc90",
   "metadata": {},
   "outputs": [
    {
     "name": "stdout",
     "output_type": "stream",
     "text": [
      "1\n",
      "7\n",
      "10\n",
      "13\n",
      "19\n",
      "23\n",
      "28\n",
      "31\n",
      "32\n",
      "44\n",
      "49\n",
      "68\n",
      "70\n",
      "79\n",
      "82\n",
      "86\n",
      "91\n",
      "94\n",
      "97\n",
      "100\n"
     ]
    }
   ],
   "source": [
    "#4.Write a Python program to print all happy numbers between 1 and 100?\n",
    "\n",
    "def num_sum(num):  \n",
    "    rem = sum = 0;  \n",
    "    while(num > 0):  \n",
    "        rem = num%10;  \n",
    "        sum = sum + (rem*rem);  \n",
    "        num = num//10;  \n",
    "    return sum;  \n",
    "def ishappy(num):\n",
    "    n=num\n",
    "    while True:\n",
    "        n = num_sum(n)\n",
    "        if n ==1:\n",
    "            return True\n",
    "        elif  n==4:\n",
    "            return False\n",
    "for i in range(1,101):\n",
    "    if ishappy(i):\n",
    "        print(i)"
   ]
  },
  {
   "cell_type": "code",
   "execution_count": 5,
   "id": "13de0834",
   "metadata": {},
   "outputs": [
    {
     "name": "stdout",
     "output_type": "stream",
     "text": [
      "Yes\n",
      "No\n"
     ]
    }
   ],
   "source": [
    "#5.Write a Python program to determine whether the given number is a Harshad Number?\n",
    " \n",
    "def check_harshad(num):\n",
    "    n = num\n",
    "    sum = 0;  \n",
    "    while(num > 0):   \n",
    "        sum = sum + num%10;  \n",
    "        num = num//10; \n",
    "    if n % sum == 0:\n",
    "        print(\"Yes\")\n",
    "    else:\n",
    "        print(\"No\")\n",
    "\n",
    "check_harshad(18)\n",
    "check_harshad(15)"
   ]
  },
  {
   "cell_type": "code",
   "execution_count": 6,
   "id": "86967019",
   "metadata": {},
   "outputs": [
    {
     "name": "stdout",
     "output_type": "stream",
     "text": [
      "2\n",
      "6\n",
      "12\n",
      "20\n",
      "30\n",
      "42\n",
      "56\n",
      "72\n",
      "90\n"
     ]
    }
   ],
   "source": [
    "#6.Write a Python program to print all pronic numbers between 1 and 100?\n",
    "for i in range(1,101):\n",
    "    for j in range(1,i):\n",
    "        if i == j * (j+1):\n",
    "            print(i)"
   ]
  },
  {
   "cell_type": "code",
   "execution_count": null,
   "id": "db3d661d",
   "metadata": {},
   "outputs": [],
   "source": []
  }
 ],
 "metadata": {
  "kernelspec": {
   "display_name": "Python 3 (ipykernel)",
   "language": "python",
   "name": "python3"
  },
  "language_info": {
   "codemirror_mode": {
    "name": "ipython",
    "version": 3
   },
   "file_extension": ".py",
   "mimetype": "text/x-python",
   "name": "python",
   "nbconvert_exporter": "python",
   "pygments_lexer": "ipython3",
   "version": "3.9.6"
  }
 },
 "nbformat": 4,
 "nbformat_minor": 5
}
