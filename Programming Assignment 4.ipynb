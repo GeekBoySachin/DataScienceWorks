{
 "cells": [
  {
   "cell_type": "code",
   "execution_count": 2,
   "id": "b5d4d5cf",
   "metadata": {},
   "outputs": [
    {
     "data": {
      "text/plain": [
       "24"
      ]
     },
     "execution_count": 2,
     "metadata": {},
     "output_type": "execute_result"
    }
   ],
   "source": [
    "#1.Write a Python Program to Find the Factorial of a Number?\n",
    "\n",
    "def fact(n):\n",
    "    if n <=1:\n",
    "        return 1\n",
    "    return n*fact(n-1)\n",
    "\n",
    "fact(4)"
   ]
  },
  {
   "cell_type": "code",
   "execution_count": 3,
   "id": "ef5f2a1d",
   "metadata": {},
   "outputs": [
    {
     "name": "stdout",
     "output_type": "stream",
     "text": [
      "2\n",
      "4\n",
      "6\n",
      "8\n",
      "10\n",
      "12\n",
      "14\n",
      "16\n",
      "18\n",
      "20\n"
     ]
    }
   ],
   "source": [
    "#2.Write a Python Program to Display the multiplication Table?\n",
    "\n",
    "def multiplication(n):\n",
    "    for i in range(1,11):\n",
    "        print(i*n)\n",
    "\n",
    "multiplication(2)"
   ]
  },
  {
   "cell_type": "code",
   "execution_count": 10,
   "id": "ec31c31a",
   "metadata": {},
   "outputs": [
    {
     "name": "stdout",
     "output_type": "stream",
     "text": [
      "[0, 1, 1, 2, 3, 5, 8, 13, 21]\n"
     ]
    }
   ],
   "source": [
    "#3.Write a Python Program to Print the Fibonacci sequence?\n",
    "\n",
    "def febo(n):\n",
    "    ser = [0]*int(n+1)\n",
    "    ser[0]=0\n",
    "    ser[1]=1\n",
    "    for i in range(2,n+1):\n",
    "        ser[i] = ser[i-1]+ser[i-2]\n",
    "    print(ser)\n",
    "\n",
    "febo(8)\n",
    "            "
   ]
  },
  {
   "cell_type": "code",
   "execution_count": 21,
   "id": "db6022f3",
   "metadata": {},
   "outputs": [
    {
     "name": "stdout",
     "output_type": "stream",
     "text": [
      "Armstrong number\n"
     ]
    }
   ],
   "source": [
    "#4.Write a Python Program to Check Armstrong Number?\n",
    "def armstrong(n):\n",
    "    t = n\n",
    "    sum =0 \n",
    "    while n>0:\n",
    "        sum =sum +  (n%10)**3\n",
    "        n = n//10\n",
    "    if t == sum:\n",
    "        print(\"Armstrong number\")\n",
    "    else:\n",
    "        print(\"Not a Armstrong number\")\n",
    "        \n",
    "        \n",
    "armstrong(153)     "
   ]
  },
  {
   "cell_type": "code",
   "execution_count": 23,
   "id": "910148f9",
   "metadata": {},
   "outputs": [
    {
     "name": "stdout",
     "output_type": "stream",
     "text": [
      "1\n",
      "153\n",
      "370\n",
      "371\n",
      "407\n"
     ]
    }
   ],
   "source": [
    "#5.Write a Python Program to Find Armstrong Number in an Interval?\n",
    "\n",
    "def armstrong(n):\n",
    "    t = n\n",
    "    sum =0 \n",
    "    while n>0:\n",
    "        sum =sum +  (n%10)**3\n",
    "        n = n//10\n",
    "    if t == sum:\n",
    "        return True\n",
    "    else:\n",
    "        return False\n",
    "\n",
    "def arminterval(a,b):\n",
    "    for i in range(a,b):\n",
    "        if armstrong(i):\n",
    "            print(i)\n",
    "            \n",
    "arminterval(1,408)"
   ]
  },
  {
   "cell_type": "code",
   "execution_count": 26,
   "id": "b73f82cf",
   "metadata": {},
   "outputs": [
    {
     "data": {
      "text/plain": [
       "55.0"
      ]
     },
     "execution_count": 26,
     "metadata": {},
     "output_type": "execute_result"
    }
   ],
   "source": [
    "#6.Write a Python Program to Find the Sum of Natural Numbers?\n",
    "def sumNatural(n):\n",
    "    return n*(n+1)/2\n",
    "\n",
    "sumNatural(10)"
   ]
  }
 ],
 "metadata": {
  "kernelspec": {
   "display_name": "Python 3 (ipykernel)",
   "language": "python",
   "name": "python3"
  },
  "language_info": {
   "codemirror_mode": {
    "name": "ipython",
    "version": 3
   },
   "file_extension": ".py",
   "mimetype": "text/x-python",
   "name": "python",
   "nbconvert_exporter": "python",
   "pygments_lexer": "ipython3",
   "version": "3.9.6"
  }
 },
 "nbformat": 4,
 "nbformat_minor": 5
}
