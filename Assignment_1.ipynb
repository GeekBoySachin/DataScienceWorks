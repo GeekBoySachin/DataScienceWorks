{
 "cells": [
  {
   "cell_type": "markdown",
   "id": "6686ed9f",
   "metadata": {},
   "source": [
    "1. In the below elements which of them are values or an expression? eg:- values can be integer or string and expressions will be mathematical operators.\n",
    "* \n",
    "'hello'\n",
    "-87.8\n",
    "- \n",
    "/ \n",
    "+\t\n",
    "6 \n",
    "\n",
    "Answer: *,-,/,+"
   ]
  },
  {
   "cell_type": "markdown",
   "id": "b9c7a65f",
   "metadata": {},
   "source": [
    "2. What is the difference between string and variable?\n",
    "\n",
    "Answer: \n",
    "Variable :- A variable is a container in programming language to store values of any data type while execution of program.\n",
    "Example:- name = “sachin”, age = 23\n",
    "String :-  A string is a data type which stores series of characters.\n",
    "Example:- name = ‘sachin’"
   ]
  },
  {
   "cell_type": "markdown",
   "id": "95ad1000",
   "metadata": {},
   "source": [
    "3. Describe three different data types.\n",
    "\n",
    "Answer: Three different data types:-\n",
    "1. Numeric\n",
    "2. String\n",
    "3. List"
   ]
  },
  {
   "cell_type": "markdown",
   "id": "8cb60b64",
   "metadata": {},
   "source": [
    "4. What is an expression made up of? What do all expressions do?\n",
    "\n",
    "Answer: and expression is made of three elements in which there is two operands and one operation between them. An expression is used to perform any action on the variable i.e. operands."
   ]
  },
  {
   "cell_type": "markdown",
   "id": "a6bc91f6",
   "metadata": {},
   "source": [
    "5. This assignment statements, like spam = 10. What is the difference between an expression and a statement?\n",
    "\n",
    "Answer: \n",
    "spam = 10\n",
    "This statement is only assigning value to a variable where expression performs some operation on the variables and resultant value is stored or used in the program."
   ]
  },
  {
   "cell_type": "markdown",
   "id": "08d0094f",
   "metadata": {},
   "source": [
    "6. After running the following code, what does the variable bacon contain?\n",
    "bacon = 22\n",
    "bacon + 1\n",
    "\n",
    "Answer: 22"
   ]
  },
  {
   "cell_type": "markdown",
   "id": "8546bd3b",
   "metadata": {},
   "source": [
    "7. What should the values of the following two terms be?\n",
    "'spam' + 'spamspam'\n",
    "'spam' * 3\n",
    "\n",
    "Answer: spamspamspam"
   ]
  },
  {
   "cell_type": "markdown",
   "id": "cbca9ac0",
   "metadata": {},
   "source": [
    "8. Why is eggs a valid variable name while 100 is invalid?\n",
    "\n",
    "Answer: “eggs” followed the naming convention of programming language where 100 start with a number which is not a valid convention to name the variables."
   ]
  },
  {
   "cell_type": "markdown",
   "id": "61fa58ae",
   "metadata": {},
   "source": [
    "9. What three functions can be used to get the integer, floating-point number, or string version of a value?\n",
    "\n",
    "Answer: \n",
    "\n",
    "    To get integer value we can use - int() \n",
    "\n",
    "    To get float value we can use - float() \n",
    "\n",
    "    To get string value we can use - str() "
   ]
  },
  {
   "cell_type": "markdown",
   "id": "135aa251",
   "metadata": {},
   "source": [
    "10. Why does this expression cause an error? How can you fix it?\n",
    "'I have eaten ' + 99 + ' burritos.'\n",
    "\n",
    "Answer: This statement is trying to concatenate string to a integer which cuases error. It can be fixed by –\n",
    "'I have eaten ' + '99' + ' burritos.'"
   ]
  }
 ],
 "metadata": {
  "kernelspec": {
   "display_name": "Python 3 (ipykernel)",
   "language": "python",
   "name": "python3"
  },
  "language_info": {
   "codemirror_mode": {
    "name": "ipython",
    "version": 3
   },
   "file_extension": ".py",
   "mimetype": "text/x-python",
   "name": "python",
   "nbconvert_exporter": "python",
   "pygments_lexer": "ipython3",
   "version": "3.9.6"
  }
 },
 "nbformat": 4,
 "nbformat_minor": 5
}
