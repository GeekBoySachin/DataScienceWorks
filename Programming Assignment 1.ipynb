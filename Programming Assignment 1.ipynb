{
 "cells": [
  {
   "cell_type": "code",
   "execution_count": 1,
   "id": "ad8a9bfc",
   "metadata": {},
   "outputs": [
    {
     "name": "stdout",
     "output_type": "stream",
     "text": [
      "Hello Python\n"
     ]
    }
   ],
   "source": [
    "#1.Write a Python program to print \"Hello Python\"?\n",
    "\n",
    "print(\"Hello Python\")"
   ]
  },
  {
   "cell_type": "code",
   "execution_count": 3,
   "id": "74caeb15",
   "metadata": {},
   "outputs": [
    {
     "name": "stdout",
     "output_type": "stream",
     "text": [
      "9\n",
      "2.0\n"
     ]
    }
   ],
   "source": [
    "#2. Write a Python program to do arithmetical operations addition and division.?\n",
    "\n",
    "def add(a,b):\n",
    "    \"\"\"This function perform addition\"\"\"\n",
    "    return a+b\n",
    "\n",
    "def divide(a,b):\n",
    "    \"\"\"This function perform division\"\"\"\n",
    "    return a/b\n",
    "\n",
    "print(add(4,5))\n",
    "print(divide(6,3))"
   ]
  },
  {
   "cell_type": "code",
   "execution_count": 5,
   "id": "8368361f",
   "metadata": {},
   "outputs": [
    {
     "name": "stdout",
     "output_type": "stream",
     "text": [
      "5.0\n"
     ]
    }
   ],
   "source": [
    "#3.Write a Python program to find the area of a triangle?\n",
    "\n",
    "def area_triangle(base,height):\n",
    "    \"\"\"This function calculates area of triangle\"\"\"\n",
    "    return 1/2 *(base*height)\n",
    "\n",
    "print(area_triangle(2,5))"
   ]
  },
  {
   "cell_type": "code",
   "execution_count": 8,
   "id": "51acd6a6",
   "metadata": {},
   "outputs": [
    {
     "name": "stdout",
     "output_type": "stream",
     "text": [
      "Value before swap: a =  2 , b =  3\n",
      "Value after swap: a =  3 , b =  2\n"
     ]
    }
   ],
   "source": [
    "#4.Write a Python program to swap two variables?\n",
    "\n",
    "def swap(a,b):\n",
    "    \"\"\"This function perform swaping of numbers\"\"\"\n",
    "    print(\"Value before swap: a = \",a,\", b = \",b)\n",
    "    t = a\n",
    "    a = b\n",
    "    b = t\n",
    "    print(\"Value after swap: a = \",a,\", b = \",b)\n",
    "\n",
    "swap(2,3)"
   ]
  },
  {
   "cell_type": "code",
   "execution_count": 11,
   "id": "b132d06e",
   "metadata": {},
   "outputs": [
    {
     "name": "stdout",
     "output_type": "stream",
     "text": [
      "2\n"
     ]
    }
   ],
   "source": [
    "#5.Write a Python program to generate a random number?\n",
    "\n",
    "import random\n",
    "print(random.choice([1,2,3,4,5,6,7,8,9]))"
   ]
  }
 ],
 "metadata": {
  "kernelspec": {
   "display_name": "Python 3 (ipykernel)",
   "language": "python",
   "name": "python3"
  },
  "language_info": {
   "codemirror_mode": {
    "name": "ipython",
    "version": 3
   },
   "file_extension": ".py",
   "mimetype": "text/x-python",
   "name": "python",
   "nbconvert_exporter": "python",
   "pygments_lexer": "ipython3",
   "version": "3.9.6"
  }
 },
 "nbformat": 4,
 "nbformat_minor": 5
}
