{
 "cells": [
  {
   "cell_type": "markdown",
   "id": "922b8337",
   "metadata": {},
   "source": [
    "1.What are the two values of the Boolean data type? How do you write them?\n",
    "Answer: Two values of Boolean data type is true (1) and false (0). We can write them like this “True” and “False”."
   ]
  },
  {
   "cell_type": "markdown",
   "id": "1f2c3673",
   "metadata": {},
   "source": [
    "2. What are the three different types of Boolean operators?\n",
    "Answer: Three  types of Boolean operators – AND,OR,NOT"
   ]
  },
  {
   "cell_type": "markdown",
   "id": "8574f56e",
   "metadata": {},
   "source": [
    "3. Make a list of each Boolean operator's truth tables (i.e. every possible combination of Boolean values for the operator and what it evaluate ).\n",
    "Answer: \n",
    "AND \n",
    "False False  = False\n",
    "False True = False\n",
    "True False = False\n",
    "True True =  True\n",
    "OR\n",
    "False False  = False\n",
    "False True = True\n",
    "True False = True\n",
    "True True =  True\n",
    "NOT \n",
    "False = True\n",
    "True = False\n"
   ]
  },
  {
   "cell_type": "markdown",
   "id": "ef8f2926",
   "metadata": {},
   "source": [
    "4. What are the values of the following expressions?\n",
    "(5 > 4) and (3 == 5)\n",
    "not (5 > 4)\n",
    "(5 > 4) or (3 == 5)\n",
    "not ((5 > 4) or (3 == 5))\n",
    "(True and True) and (True == False)\n",
    "(not False) or (not True)\n",
    "\n",
    "Answer:\n",
    "(5 > 4) and (3 == 5)  : False\n",
    "not (5 > 4) : False\n",
    "(5 > 4) or (3 == 5) : True\n",
    "not ((5 > 4) or (3 == 5)) : False\n",
    "(True and True) and (True == False) : False\n",
    "(not False) or (not True) : True\n"
   ]
  },
  {
   "cell_type": "markdown",
   "id": "4db5ab25",
   "metadata": {},
   "source": [
    "5. What are the six comparison operators?\n",
    "Answer: >,<,>=,<=,==,!="
   ]
  },
  {
   "cell_type": "markdown",
   "id": "db6ecf5a",
   "metadata": {},
   "source": [
    "6. How do you tell the difference between the equal to and assignment operators?Describe a condition and when you would use one.\n",
    "Answer: Equal to (==) operator can be used to compare the values of variables.\n",
    "Assignment operator(=) can be used to assign value to a variable. \n",
    "Condition: \n",
    "age = 20         # this is an assignment operation\n",
    "If age == 20:    # this is an equal to operation"
   ]
  },
  {
   "cell_type": "markdown",
   "id": "9ecf527b",
   "metadata": {},
   "source": [
    "7. Identify the three blocks in this code:\n",
    "spam = 0\n",
    "if spam == 10:\n",
    "print('eggs')\n",
    "if spam > 5:\n",
    "print('bacon')\n",
    "else:\n",
    "print('ham')\n",
    "print('spam')\n",
    "print('spam')\n",
    "\n",
    "Answer:\n",
    "\n",
    "Block 1 only if –\n",
    "if spam == 10:\n",
    "    print('eggs')\n",
    "\n",
    "Block 2 if block of if else -\n",
    "if spam > 5:\n",
    "    print('bacon')\n",
    "\n",
    "Block 3  else block of if else– \n",
    "else:\n",
    "    print('ham')\n",
    "    print('spam')\n",
    "    print('spam')"
   ]
  },
  {
   "cell_type": "code",
   "execution_count": 5,
   "id": "926ad557",
   "metadata": {},
   "outputs": [
    {
     "name": "stdout",
     "output_type": "stream",
     "text": [
      "Greetings!\n"
     ]
    }
   ],
   "source": [
    "#8. Write code that prints Hello if 1 is stored in spam, prints Howdy if 2 is stored in spam, and prints Greetings! if anything else is stored in spam.\n",
    "#Answer:\n",
    "spam = 5\n",
    "if spam ==1 :\n",
    "    print('Hello')\n",
    "elif spam == 2:\n",
    "    print('Howdy')\n",
    "else:\n",
    "    print('Greetings!')"
   ]
  },
  {
   "cell_type": "markdown",
   "id": "cde99e5c",
   "metadata": {},
   "source": [
    "9.If your programme is stuck in an endless loop, what keys you’ll press?\n",
    "Answer: CTRL-C"
   ]
  },
  {
   "cell_type": "markdown",
   "id": "a8f4cf0d",
   "metadata": {},
   "source": [
    "10. How can you tell the difference between break and continue?\n",
    "Answer:\n",
    "\n",
    "break - \"break\" keyword is used to jump out from the running loop.\n",
    "\n",
    "continue - \"continue\" keyword is used to skip the current iteration of the loop for all the lines of code written after \"continue\" keyword inside the loop block."
   ]
  },
  {
   "cell_type": "markdown",
   "id": "8c6c9f6a",
   "metadata": {},
   "source": [
    "11. In a for loop, what is the difference between range(10), range(0, 10), and range(0, 10, 1)?\n",
    "Answer:\n",
    "range(10) - [0,1,2,3,4,5,6,7,8,9]\n",
    "range(0,10) - [0,1,2,3,4,5,6,7,8,9]\n",
    "range(0, 10, 1) - [0,1,2,3,4,5,6,7,8,9]\n",
    "For all the ranges loop will run from 0 to 9. In other words these three are same conditions."
   ]
  },
  {
   "cell_type": "code",
   "execution_count": 7,
   "id": "c1c660bd",
   "metadata": {},
   "outputs": [
    {
     "name": "stdout",
     "output_type": "stream",
     "text": [
      "1\n",
      "2\n",
      "3\n",
      "4\n",
      "5\n",
      "6\n",
      "7\n",
      "8\n",
      "9\n",
      "10\n",
      "1\n",
      "2\n",
      "3\n",
      "4\n",
      "5\n",
      "6\n",
      "7\n",
      "8\n",
      "9\n",
      "10\n"
     ]
    }
   ],
   "source": [
    "\"\"\"12. Write a short program that prints the numbers 1 to 10 using a for loop. Then write an equivalent program that prints \n",
    "the numbers 1 to 10 using a while loop.\"\"\"\n",
    "#Answer:\n",
    "\n",
    "#Using for loop :\n",
    "for i in range(1,11):\n",
    "    print(i)\n",
    "\n",
    "# Using while loop:    \n",
    "j = 1 \n",
    "while j<11:\n",
    "    print(j)\n",
    "    j = j+1"
   ]
  },
  {
   "cell_type": "markdown",
   "id": "d8b22d09",
   "metadata": {},
   "source": [
    "13. If you had a function named bacon() inside a module named spam, how would you call it after importing spam?\n",
    "Answer:\n",
    "\n",
    "import spam\n",
    "spam.bacon()\n",
    "\n",
    "OR\n",
    "import spam as s\n",
    "s.bacon()\n",
    "\n",
    "OR\n",
    "from spam import bacon\n",
    "bacon()"
   ]
  }
 ],
 "metadata": {
  "kernelspec": {
   "display_name": "Python 3 (ipykernel)",
   "language": "python",
   "name": "python3"
  },
  "language_info": {
   "codemirror_mode": {
    "name": "ipython",
    "version": 3
   },
   "file_extension": ".py",
   "mimetype": "text/x-python",
   "name": "python",
   "nbconvert_exporter": "python",
   "pygments_lexer": "ipython3",
   "version": "3.9.6"
  }
 },
 "nbformat": 4,
 "nbformat_minor": 5
}
