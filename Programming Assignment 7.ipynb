{
 "cells": [
  {
   "cell_type": "code",
   "execution_count": 1,
   "id": "87d05aca",
   "metadata": {},
   "outputs": [
    {
     "data": {
      "text/plain": [
       "15"
      ]
     },
     "execution_count": 1,
     "metadata": {},
     "output_type": "execute_result"
    }
   ],
   "source": [
    "#1.Write a Python Program to find sum of array?\n",
    "\n",
    "def sum_of_array(arr):\n",
    "    sum = 0\n",
    "    for i in arr:\n",
    "        sum+=i\n",
    "    return sum\n",
    "\n",
    "arr = [1,2,3,4,5]\n",
    "sum_of_array(arr)"
   ]
  },
  {
   "cell_type": "code",
   "execution_count": 2,
   "id": "b3ea58e0",
   "metadata": {},
   "outputs": [
    {
     "data": {
      "text/plain": [
       "9"
      ]
     },
     "execution_count": 2,
     "metadata": {},
     "output_type": "execute_result"
    }
   ],
   "source": [
    "#2.Write a Python Program to find largest element in an array?\n",
    "\n",
    "def largest(arr):\n",
    "    max = 0\n",
    "    for i in arr:\n",
    "        if i > max:\n",
    "            max = i\n",
    "    return max\n",
    "\n",
    "largest([3,9,4,6,1])"
   ]
  },
  {
   "cell_type": "code",
   "execution_count": 5,
   "id": "7ef18d3f",
   "metadata": {},
   "outputs": [
    {
     "data": {
      "text/plain": [
       "[5, 4, 3, 2, 1]"
      ]
     },
     "execution_count": 5,
     "metadata": {},
     "output_type": "execute_result"
    }
   ],
   "source": [
    "#3.Write a Python Program for array rotation?\n",
    "\n",
    "def rotate(arr):\n",
    "    temp = []\n",
    "    for i in range(len(arr)-1,-1,-1):\n",
    "        temp.append(arr[i])\n",
    "    return temp\n",
    "rotate([1,2,3,4,5])"
   ]
  },
  {
   "cell_type": "code",
   "execution_count": 9,
   "id": "d160014f",
   "metadata": {},
   "outputs": [
    {
     "data": {
      "text/plain": [
       "[4, 5, 6, 1, 2, 3]"
      ]
     },
     "execution_count": 9,
     "metadata": {},
     "output_type": "execute_result"
    }
   ],
   "source": [
    "#4.Write a Python Program to Split the array and add the first part to the end?\n",
    "\n",
    "def split_add(arr):\n",
    "    temp1 = arr[0:len(arr)//2]\n",
    "    temp2 = arr[len(arr)//2:]\n",
    "    return temp2 + temp1\n",
    "split_add([1,2,3,4,5,6])"
   ]
  },
  {
   "cell_type": "code",
   "execution_count": 21,
   "id": "a58736c1",
   "metadata": {},
   "outputs": [
    {
     "name": "stdout",
     "output_type": "stream",
     "text": [
      "Not Monotonic\n",
      "Monotonic\n",
      "Monotonic\n",
      "Monotonic\n"
     ]
    }
   ],
   "source": [
    "#5.Write a Python Program to check if given array is Monotonic?\n",
    "\n",
    "def monotonic(arr):\n",
    "    flag = True\n",
    "    if len(arr)>2:\n",
    "        if arr[0]>arr[1]:\n",
    "            for i in range(0,len(arr)-1):\n",
    "                if arr[i]<arr[i+1]:\n",
    "                    flag = False\n",
    "                    break\n",
    "        else:\n",
    "             for i in range(0,len(arr)-1):\n",
    "                if arr[i]>arr[i+1]:\n",
    "                    flag = False\n",
    "                    break\n",
    "    if flag:\n",
    "        print(\"Monotonic\")\n",
    "    else:\n",
    "        print(\"Not Monotonic\")\n",
    "                \n",
    "monotonic([5,4,3,2,1,2,45])\n",
    "monotonic([5,4,3,2,1,1])\n",
    "monotonic([1,2,45])\n",
    "monotonic([1])"
   ]
  }
 ],
 "metadata": {
  "kernelspec": {
   "display_name": "Python 3 (ipykernel)",
   "language": "python",
   "name": "python3"
  },
  "language_info": {
   "codemirror_mode": {
    "name": "ipython",
    "version": 3
   },
   "file_extension": ".py",
   "mimetype": "text/x-python",
   "name": "python",
   "nbconvert_exporter": "python",
   "pygments_lexer": "ipython3",
   "version": "3.9.6"
  }
 },
 "nbformat": 4,
 "nbformat_minor": 5
}
