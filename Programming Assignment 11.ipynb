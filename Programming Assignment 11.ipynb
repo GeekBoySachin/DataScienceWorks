{
 "cells": [
  {
   "cell_type": "code",
   "execution_count": 3,
   "id": "d3628bdf",
   "metadata": {},
   "outputs": [
    {
     "name": "stdout",
     "output_type": "stream",
     "text": [
      "Write\n",
      "Python\n",
      "program\n",
      "words\n",
      "which\n",
      "greater\n",
      "given\n",
      "length\n"
     ]
    }
   ],
   "source": [
    "#1.Write a Python program to find words which are greater than given length k?\n",
    "\n",
    "inp_str = \"Write a Python program to find words which are greater than given length\"\n",
    "\n",
    "def find_words(inp,l):\n",
    "     \"\"\"l is length to be checked\"\"\"\n",
    "    for i in inp.split(\" \"):\n",
    "        if len(i) > l:\n",
    "            print(i)\n",
    "            \n",
    "find_words(inp_str,4)"
   ]
  },
  {
   "cell_type": "code",
   "execution_count": 6,
   "id": "0c52e13a",
   "metadata": {},
   "outputs": [
    {
     "data": {
      "text/plain": [
       "'sachin'"
      ]
     },
     "execution_count": 6,
     "metadata": {},
     "output_type": "execute_result"
    }
   ],
   "source": [
    "#2.Write a Python program for removing i-th character from a string?\n",
    " \n",
    "inp_str = \"sachin1\"\n",
    "def remove(inp,i):\n",
    "    \"\"\"i is index to be removed\"\"\"\n",
    "    temp = inp[:i]+inp[i+1:]\n",
    "    return temp\n",
    "\n",
    "remove(inp_str,6)\n",
    "remove(\"sac2hin\",3)"
   ]
  },
  {
   "cell_type": "code",
   "execution_count": 7,
   "id": "a4255cfe",
   "metadata": {},
   "outputs": [
    {
     "name": "stdout",
     "output_type": "stream",
     "text": [
      "['heloo', 'split', 'me', 'please']\n",
      "heloo split me please\n"
     ]
    }
   ],
   "source": [
    "#3.Write a Python program to split and join a string?\n",
    "\n",
    "inp_str = \"heloo split me please\"\n",
    "\n",
    "#splitting\n",
    "temp = inp_str.split(\" \")\n",
    "print(temp)\n",
    "#joining\n",
    "temp = \" \".join(temp)\n",
    "print(temp)\n"
   ]
  },
  {
   "cell_type": "code",
   "execution_count": 21,
   "id": "08e7d4af",
   "metadata": {},
   "outputs": [
    {
     "name": "stdout",
     "output_type": "stream",
     "text": [
      "binary\n",
      "Not binary\n",
      "Not binary\n"
     ]
    }
   ],
   "source": [
    "#4.Write a Python to check if a given string is binary string or not?\n",
    "\n",
    "def check_binary(inp_str):\n",
    "    flag = True\n",
    "    for i in inp_str:\n",
    "        if i not in ['0','1']:\n",
    "            flag = False\n",
    "            break\n",
    "    if flag:\n",
    "        print(\"binary\")\n",
    "    else:\n",
    "        print(\"Not binary\")\n",
    "check_binary(\"001101\")\n",
    "check_binary(\"0011013454\")\n",
    "check_binary(\"0011ascfsdf01\")"
   ]
  },
  {
   "cell_type": "code",
   "execution_count": 22,
   "id": "d9111436",
   "metadata": {},
   "outputs": [
    {
     "name": "stdout",
     "output_type": "stream",
     "text": [
      "['not']\n"
     ]
    }
   ],
   "source": [
    "#5.Write a Python program to find uncommon words from two Strings?\n",
    "\n",
    "inp1 = \"sachin is not good\"\n",
    "inp2 = \"sachin is good\"\n",
    "\n",
    "uncommon = []\n",
    "for i in inp1.split(\" \"):\n",
    "    if i not in inp2:\n",
    "        uncommon.append(i)\n",
    "print(uncommon)"
   ]
  },
  {
   "cell_type": "code",
   "execution_count": 24,
   "id": "db6ae649",
   "metadata": {},
   "outputs": [
    {
     "name": "stdout",
     "output_type": "stream",
     "text": [
      "['sachin', 'is', 'good']\n"
     ]
    }
   ],
   "source": [
    "#6.Write a Python to find all duplicate characters in string?\n",
    "\n",
    "inp1 = \"sachin is not good\"\n",
    "inp2 = \"sachin is good\"\n",
    "\n",
    "duplicate = []\n",
    "for i in inp1.split(\" \"):\n",
    "    if i in inp2:\n",
    "        duplicate.append(i)\n",
    "print(duplicate)"
   ]
  },
  {
   "cell_type": "code",
   "execution_count": 27,
   "id": "e61398b7",
   "metadata": {},
   "outputs": [
    {
     "name": "stdout",
     "output_type": "stream",
     "text": [
      "String contains special characters\n"
     ]
    }
   ],
   "source": [
    "#7.Write a Python Program to check if a string contains any special character?\n",
    "\n",
    "chars = \"abcdefghigjklmnopqrstuvwxyz1234567890\"\n",
    "chars = chars + chars.upper()\n",
    "inp_str = \"sachin^%R$*^&\"\n",
    "\n",
    "special = []\n",
    "for i in inp_str:\n",
    "    if i not in chars:\n",
    "        special.append(i)\n",
    "if len(special) >0:\n",
    "    print(\"String contains special characters\")\n",
    "else:\n",
    "    print(\"String does not contains special characters\")"
   ]
  },
  {
   "cell_type": "code",
   "execution_count": null,
   "id": "6edada98",
   "metadata": {},
   "outputs": [],
   "source": []
  }
 ],
 "metadata": {
  "kernelspec": {
   "display_name": "Python 3 (ipykernel)",
   "language": "python",
   "name": "python3"
  },
  "language_info": {
   "codemirror_mode": {
    "name": "ipython",
    "version": 3
   },
   "file_extension": ".py",
   "mimetype": "text/x-python",
   "name": "python",
   "nbconvert_exporter": "python",
   "pygments_lexer": "ipython3",
   "version": "3.9.6"
  }
 },
 "nbformat": 4,
 "nbformat_minor": 5
}
