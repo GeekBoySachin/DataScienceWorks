{
 "cells": [
  {
   "cell_type": "code",
   "execution_count": 1,
   "id": "d3a0624a",
   "metadata": {},
   "outputs": [
    {
     "name": "stdout",
     "output_type": "stream",
     "text": [
      "Sumn: 28\n"
     ]
    }
   ],
   "source": [
    "#1.Write a Python program to find sum of elements in list?\n",
    "\n",
    "num_list = [1,2,3,4,5,6,7]\n",
    "sum =0\n",
    "for i in num_list:\n",
    "    sum +=i\n",
    "print(\"Sumn:\",sum)"
   ]
  },
  {
   "cell_type": "code",
   "execution_count": 2,
   "id": "ade10ec2",
   "metadata": {},
   "outputs": [
    {
     "name": "stdout",
     "output_type": "stream",
     "text": [
      "Sumn: 5040\n"
     ]
    }
   ],
   "source": [
    "#2.Write a Python program to  Multiply all numbers in the list?\n",
    "num_list = [1,2,3,4,5,6,7]\n",
    "mul_sum =1\n",
    "for i in num_list:\n",
    "    mul_sum *=i\n",
    "print(\"Sumn:\",mul_sum)"
   ]
  },
  {
   "cell_type": "code",
   "execution_count": 3,
   "id": "228f1c3c",
   "metadata": {},
   "outputs": [
    {
     "name": "stdout",
     "output_type": "stream",
     "text": [
      "Smallest 2\n"
     ]
    }
   ],
   "source": [
    "#3.Write a Python program to find smallest number in a list?\n",
    "num_list = [4,8,5,3,2,3,4,5,6,7]\n",
    "min_num = num_list[0]\n",
    "for i in num_list:\n",
    "    if min_num>i:\n",
    "        min_num =i\n",
    "print(\"Smallest\",min_num)"
   ]
  },
  {
   "cell_type": "code",
   "execution_count": 4,
   "id": "d07a0ce7",
   "metadata": {},
   "outputs": [
    {
     "name": "stdout",
     "output_type": "stream",
     "text": [
      "Largest 8\n"
     ]
    }
   ],
   "source": [
    "#4.Write a Python program to find largest number in a list?\n",
    "\n",
    "num_list = [4,8,5,3,2,3,4,5,6,7]\n",
    "max_num = num_list[0]\n",
    "for i in num_list:\n",
    "    if max_num<i:\n",
    "        max_num =i\n",
    "print(\"Largest\",max_num)"
   ]
  },
  {
   "cell_type": "code",
   "execution_count": 5,
   "id": "69a064fa",
   "metadata": {},
   "outputs": [
    {
     "name": "stdout",
     "output_type": "stream",
     "text": [
      "Second largest 7\n"
     ]
    }
   ],
   "source": [
    "#5.Write a Python program to find second largest number in a list?\n",
    "num_list = [4,8,5,3,2,3,4,5,6,7]\n",
    "max_num = num_list[0]\n",
    "max_num2 = 0\n",
    "for i in num_list:\n",
    "    if max_num<i:\n",
    "        max_num =i\n",
    "for i in num_list:\n",
    "    if max_num2<i and i != max_num:\n",
    "        max_num2 =i\n",
    "print(\"Second largest\",max_num2)"
   ]
  },
  {
   "cell_type": "code",
   "execution_count": 6,
   "id": "6ae186d9",
   "metadata": {},
   "outputs": [
    {
     "data": {
      "text/plain": [
       "6"
      ]
     },
     "execution_count": 6,
     "metadata": {},
     "output_type": "execute_result"
    }
   ],
   "source": [
    "#6.Write a Python program to find N largest elements from a list?\n",
    "num_list = [4,8,5,3,2,3,4,5,6,7]\n",
    "def n_largest(num_list,n):\n",
    "    temp = num_list[:]\n",
    "    temp.sort(reverse=True)\n",
    "    return temp[n-1]\n",
    "\n",
    "n_largest(num_list,3)"
   ]
  },
  {
   "cell_type": "code",
   "execution_count": 7,
   "id": "a527dbe7",
   "metadata": {},
   "outputs": [
    {
     "name": "stdout",
     "output_type": "stream",
     "text": [
      "4\n",
      "8\n",
      "2\n",
      "4\n",
      "6\n"
     ]
    }
   ],
   "source": [
    "#7.Write a Python program to print even numbers in a list?\n",
    "num_list = [4,8,5,3,2,3,4,5,6,7]\n",
    "max_num = num_list[0]\n",
    "for i in num_list:\n",
    "    if i % 2 == 0:\n",
    "        print(i)"
   ]
  },
  {
   "cell_type": "code",
   "execution_count": 8,
   "id": "126c300c",
   "metadata": {},
   "outputs": [
    {
     "name": "stdout",
     "output_type": "stream",
     "text": [
      "5\n",
      "3\n",
      "3\n",
      "5\n",
      "7\n"
     ]
    }
   ],
   "source": [
    "#8.Write a Python program to print odd numbers in a List?\n",
    "num_list = [4,8,5,3,2,3,4,5,6,7]\n",
    "max_num = num_list[0]\n",
    "for i in num_list:\n",
    "    if i % 2 != 0:\n",
    "        print(i)"
   ]
  },
  {
   "cell_type": "code",
   "execution_count": 9,
   "id": "b2453640",
   "metadata": {},
   "outputs": [
    {
     "name": "stdout",
     "output_type": "stream",
     "text": [
      "[[1, 2, 3], [3, 4]]\n"
     ]
    }
   ],
   "source": [
    "#9.Write a Python program to Remove empty List from List?\n",
    "temp_list = [[1,2,3],[],[3,4],[]]\n",
    "def remove_empty(temp_list):\n",
    "    temp = []\n",
    "    for i in temp_list:\n",
    "        if len(i) != 0:\n",
    "            temp.append(i)\n",
    "    return temp\n",
    "print(remove_empty(temp_list))"
   ]
  },
  {
   "cell_type": "code",
   "execution_count": 10,
   "id": "e76ca5a0",
   "metadata": {},
   "outputs": [
    {
     "name": "stdout",
     "output_type": "stream",
     "text": [
      "clone: [[1, 2, 3], [], [3, 4], []]\n",
      "original: [[1, 2, 3], [], [3, 4], []]\n"
     ]
    }
   ],
   "source": [
    "#10.Write a Python program to Cloning or Copying a list?\n",
    "temp_list = [[1,2,3],[],[3,4],[]]\n",
    "\n",
    "clone_list = temp_list[:]\n",
    "print(\"clone:\",clone_list)\n",
    "print(\"original:\",temp_list)"
   ]
  },
  {
   "cell_type": "code",
   "execution_count": 11,
   "id": "5fa5d82e",
   "metadata": {},
   "outputs": [
    {
     "name": "stdout",
     "output_type": "stream",
     "text": [
      "2\n",
      "3\n",
      "0\n"
     ]
    }
   ],
   "source": [
    "#11.Write a Python program to Count occurrences of an element in a list?\n",
    "num_list = [4,8,5,3,2,3,4,5,6,7,9,9,9,10]\n",
    "def count(num_list,n):\n",
    "    c= 0\n",
    "    for i in num_list:\n",
    "        if i == n:\n",
    "            c +=1\n",
    "    return c\n",
    "\n",
    "print(count(num_list,4))\n",
    "print(count(num_list,9))\n",
    "print(count(num_list,0))"
   ]
  },
  {
   "cell_type": "code",
   "execution_count": null,
   "id": "6ac3c958",
   "metadata": {},
   "outputs": [],
   "source": []
  }
 ],
 "metadata": {
  "kernelspec": {
   "display_name": "Python 3 (ipykernel)",
   "language": "python",
   "name": "python3"
  },
  "language_info": {
   "codemirror_mode": {
    "name": "ipython",
    "version": 3
   },
   "file_extension": ".py",
   "mimetype": "text/x-python",
   "name": "python",
   "nbconvert_exporter": "python",
   "pygments_lexer": "ipython3",
   "version": "3.9.6"
  }
 },
 "nbformat": 4,
 "nbformat_minor": 5
}
