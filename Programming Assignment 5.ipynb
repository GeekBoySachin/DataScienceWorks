{
 "cells": [
  {
   "cell_type": "code",
   "execution_count": 7,
   "id": "30523d60",
   "metadata": {},
   "outputs": [
    {
     "name": "stdout",
     "output_type": "stream",
     "text": [
      "LCM: 24\n"
     ]
    }
   ],
   "source": [
    "#1.Write a Python Program to Find LCM?\n",
    "\n",
    "def lcm(a,b):\n",
    "    for i in range(2,(a*b)+1):\n",
    "        if i%a == 0 and i %b==0:\n",
    "            print(\"LCM:\",i)\n",
    "            break\n",
    "            \n",
    "lcm(6,8)"
   ]
  },
  {
   "cell_type": "code",
   "execution_count": 14,
   "id": "0fdd8815",
   "metadata": {},
   "outputs": [
    {
     "name": "stdout",
     "output_type": "stream",
     "text": [
      "HCF: 9\n"
     ]
    }
   ],
   "source": [
    "#2.Write a Python Program to Find HCF?\n",
    "\n",
    "def hcf(a,b):\n",
    "    fact = []\n",
    "    for i in range(1,max(a,b)+1):\n",
    "        if a%i==0 and b%i ==0:\n",
    "            fact.append(i)\n",
    "\n",
    "    print(\"HCF:\",max(fact))\n",
    "    \n",
    "        \n",
    "hcf(18,27)"
   ]
  },
  {
   "cell_type": "code",
   "execution_count": 28,
   "id": "05093ba4",
   "metadata": {},
   "outputs": [
    {
     "name": "stdout",
     "output_type": "stream",
     "text": [
      "Binary:  10011100\n",
      "Octal:  234\n",
      "Hexadcimal : 9C\n"
     ]
    }
   ],
   "source": [
    "#3.Write a Python Program to Convert Decimal to Binary, Octal and Hexadecimal?\n",
    "\n",
    "def decimal_to_binary(n):\n",
    "    \"\"\"Decimal to Binary\"\"\"\n",
    "    bin = []\n",
    "    while n>0:\n",
    "        bin.append(str(n%2))\n",
    "        n = n//2\n",
    "    print(\"Binary: \",\"\".join(bin[::-1]))\n",
    "    \n",
    "def decimal_to_octal(n):\n",
    "    \"\"\"Decimal to octal\"\"\"\n",
    "    octal = []\n",
    "    while n>0:\n",
    "        octal.append(str(n%8))\n",
    "        n = n//8\n",
    "    print(\"Octal: \",\"\".join(octal[::-1]))\n",
    "    \n",
    "def decimal_to_hexadecimal(n):\n",
    "    \"\"\"Decimal to hexdecimal\"\"\"\n",
    "    hex = []\n",
    "    alpha = [1,2,3,4,5,6,7,8,9,'A','B','C','D','E','F']\n",
    "    while n>0:\n",
    "        t = n%16\n",
    "        hex.append(str(alpha[t-1]))\n",
    "        n = n//16\n",
    "    print(\"Hexadcimal :\",\"\".join(hex[::-1]))\n",
    " \n",
    "decimal_to_binary(156)\n",
    "decimal_to_octal(156)\n",
    "decimal_to_hexadecimal(156)"
   ]
  },
  {
   "cell_type": "code",
   "execution_count": 29,
   "id": "879b5cc0",
   "metadata": {},
   "outputs": [
    {
     "name": "stdout",
     "output_type": "stream",
     "text": [
      "ASCII value is : 65\n"
     ]
    }
   ],
   "source": [
    "#4.Write a Python Program To Find ASCII value of a character?\n",
    "\n",
    "def ascii(char):\n",
    "    print(\"ASCII value is :\",ord(char))\n",
    "    \n",
    "ascii('A')"
   ]
  },
  {
   "cell_type": "code",
   "execution_count": 37,
   "id": "9c5e573f",
   "metadata": {},
   "outputs": [
    {
     "data": {
      "text/plain": [
       "3.0"
      ]
     },
     "execution_count": 37,
     "metadata": {},
     "output_type": "execute_result"
    }
   ],
   "source": [
    "#5.Write a Python Program to Make a Simple Calculator with 4 basic mathematical operations?\n",
    "\n",
    "def calculator(operation,a,b):\n",
    "    if operation == '+':\n",
    "        return a + b\n",
    "    if operation == '-':\n",
    "        return a - b\n",
    "    if operation == '*':\n",
    "        return a * b\n",
    "    if operation == '/' and b!= 0:\n",
    "        return a/b\n",
    "    else:\n",
    "        return \"Denominator can not be zero\"\n",
    "    \n",
    "calculator('/',6,2)"
   ]
  },
  {
   "cell_type": "code",
   "execution_count": null,
   "id": "be2e8587",
   "metadata": {},
   "outputs": [],
   "source": []
  }
 ],
 "metadata": {
  "kernelspec": {
   "display_name": "Python 3 (ipykernel)",
   "language": "python",
   "name": "python3"
  },
  "language_info": {
   "codemirror_mode": {
    "name": "ipython",
    "version": 3
   },
   "file_extension": ".py",
   "mimetype": "text/x-python",
   "name": "python",
   "nbconvert_exporter": "python",
   "pygments_lexer": "ipython3",
   "version": "3.9.6"
  }
 },
 "nbformat": 4,
 "nbformat_minor": 5
}
