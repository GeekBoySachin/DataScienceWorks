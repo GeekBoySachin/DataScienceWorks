{
 "cells": [
  {
   "cell_type": "code",
   "execution_count": 1,
   "id": "059559eb",
   "metadata": {},
   "outputs": [],
   "source": [
    "#1. What does an empty dictionary's code look like?\n",
    "#Answer:\n",
    "a = {}\n",
    "#or \n",
    "a= dict()"
   ]
  },
  {
   "cell_type": "code",
   "execution_count": 2,
   "id": "9c72bc60",
   "metadata": {},
   "outputs": [],
   "source": [
    "#2. What is the value of a dictionary value with the key 'foo' and the value 42?\n",
    "#Answer:\n",
    "a = {\"foo\":42}"
   ]
  },
  {
   "cell_type": "markdown",
   "id": "c2a3f002",
   "metadata": {},
   "source": [
    "#3. What is the most significant distinction between a dictionary and a list?\n",
    "Answer : List is a collection of values of different data types and Dictionary is a collection of Key-value pairs."
   ]
  },
  {
   "cell_type": "markdown",
   "id": "32868953",
   "metadata": {},
   "source": [
    "#4. What happens if you try to access spam['foo'] if spam is {'bar': 100}?\n",
    "Answer: It will raise Key error"
   ]
  },
  {
   "cell_type": "markdown",
   "id": "2654f071",
   "metadata": {},
   "source": [
    "#5. If a dictionary is stored in spam, what is the difference between the expressions 'cat' in spam and 'cat' in spam.keys()?\n",
    "Answer: Both expressions will work same. In both expressions 'cat' will be searched in the key of the dictionary."
   ]
  },
  {
   "cell_type": "markdown",
   "id": "5e1117b2",
   "metadata": {},
   "source": [
    "#6. If a dictionary is stored in spam, what is the difference between the expressions 'cat' in spam and 'cat' in spam.values()?\n",
    "Answer:for 'cat' in spam expression ,program will try to find the 'cat' in keys of the dictionary but for 'cat' in spam.values() it will try to find the 'cat' in the list of the values present in the dictionary for every keys."
   ]
  },
  {
   "cell_type": "markdown",
   "id": "7c2effb6",
   "metadata": {},
   "source": [
    "#7. What is a shortcut for the following code?\n",
    "if 'color' not in spam:\n",
    "spam['color'] = 'black'\n",
    "\n",
    "Answer: spam.update({'color':'black'})"
   ]
  },
  {
   "cell_type": "code",
   "execution_count": 3,
   "id": "5b3ddaad",
   "metadata": {},
   "outputs": [
    {
     "name": "stdout",
     "output_type": "stream",
     "text": [
      "{'a': 1, 'b': 2}\n"
     ]
    }
   ],
   "source": [
    "#8. How do you \"pretty print\" dictionary values using which module and function?\n",
    "#Answer: We use pprint module and pprint() function of the PrettyPrinter class present in pprint module for pretty printing of dictinary.\n",
    "#example code:\n",
    "import pprint\n",
    "pp= pprint.PrettyPrinter()\n",
    "a={'a':1,'b':2}\n",
    "pp.pprint(a)"
   ]
  },
  {
   "cell_type": "code",
   "execution_count": null,
   "id": "1f9880a6",
   "metadata": {},
   "outputs": [],
   "source": []
  }
 ],
 "metadata": {
  "kernelspec": {
   "display_name": "Python 3 (ipykernel)",
   "language": "python",
   "name": "python3"
  },
  "language_info": {
   "codemirror_mode": {
    "name": "ipython",
    "version": 3
   },
   "file_extension": ".py",
   "mimetype": "text/x-python",
   "name": "python",
   "nbconvert_exporter": "python",
   "pygments_lexer": "ipython3",
   "version": "3.9.6"
  }
 },
 "nbformat": 4,
 "nbformat_minor": 5
}
