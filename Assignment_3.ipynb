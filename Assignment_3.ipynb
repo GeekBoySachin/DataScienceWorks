{
 "cells": [
  {
   "cell_type": "markdown",
   "id": "908e82b0",
   "metadata": {},
   "source": [
    "#1. Why are functions advantageous to have in your programs?\n",
    "Answer: Functions provides code reusability in our program. we can call functions for doing same thing again and again. It also prpvides clean code experience."
   ]
  },
  {
   "cell_type": "markdown",
   "id": "091df70e",
   "metadata": {},
   "source": [
    "#2. When does the code in a function run: when it's specified or when it's called?\n",
    "Answer: Function run when we call them."
   ]
  },
  {
   "cell_type": "markdown",
   "id": "4a68eaa2",
   "metadata": {},
   "source": [
    "#3. What statement creates a function?\n",
    "Answer: In python we use \"def\" keyword to make functions.Below are teh statements to create function.\n",
    "def <function-name>():\n",
    "    pass"
   ]
  },
  {
   "cell_type": "markdown",
   "id": "90af5ae3",
   "metadata": {},
   "source": [
    "#4. What is the difference between a function and a function call?\n",
    "Answer: Function in python program consist of its definition and body.It is not executable.\n",
    "Function call in program is call to a function with its necessary parameter passed to it.It will get executed after call."
   ]
  },
  {
   "cell_type": "markdown",
   "id": "80bae488",
   "metadata": {},
   "source": [
    "#5. How many global scopes are there in a Python program? How many local scopes?\n",
    "Answer: There is one global scope in python.If we define any variable outside function it will have global scope and it can be accessed anywhere in program.\n",
    "        There is one local scope in python. if we define variable inside function it will have local scope to its function only and it can be used only inside that function."
   ]
  },
  {
   "cell_type": "markdown",
   "id": "b11c3448",
   "metadata": {},
   "source": [
    "#6. What happens to variables in a local scope when the function call returns?\n",
    "Answer: When the function call return the scope of local variable inside that function ends and the variable gets deleted from memory."
   ]
  },
  {
   "cell_type": "markdown",
   "id": "663241e5",
   "metadata": {},
   "source": [
    "#7. What is the concept of a return value? Is it possible to have a return value in an expression?\n",
    "Answer:The concept of return value is inside a function. when the function execution completed and return statement return state returns something we can store that return value in a variable while calling otherwise it gets lost.\n",
    "It return concept in expression is not possible as expression assigned value to variables."
   ]
  },
  {
   "cell_type": "markdown",
   "id": "3637a8d9",
   "metadata": {},
   "source": [
    "#8. If a function does not have a return statement, what is the return value of a call to that function?\n",
    "Answer:If a function does not have a return statement it will return \"None\" if we call that function."
   ]
  },
  {
   "cell_type": "markdown",
   "id": "34de3dfa",
   "metadata": {},
   "source": [
    "#9. How do you make a function variable refer to the global variable?\n",
    "Answer:if we want to refer a global inside a function then we have to refer that variable with the use of 'global' keyword.\n",
    "example:- global sum"
   ]
  },
  {
   "cell_type": "markdown",
   "id": "dc6b14a0",
   "metadata": {},
   "source": [
    "#10. What is the data type of None?\n",
    "Answer: The data type of None is 'NoneType'."
   ]
  },
  {
   "cell_type": "markdown",
   "id": "7c34e85b",
   "metadata": {},
   "source": [
    "#11. What does the sentence import areallyourpetsnamederic do?\n",
    "Answer: The import statement try to import the module 'areallyourpetsnamederic'.All the code inside 'areallyourpetsnamederic' module will be available to use in current program which import the module."
   ]
  },
  {
   "cell_type": "markdown",
   "id": "1597b545",
   "metadata": {},
   "source": [
    "#12. If you had a bacon() feature in a spam module, what would you call it after importing spam?\n",
    "Answer: lets say if we import spam as:\n",
    "import spam\n",
    "then we call bacon as :\n",
    "\n",
    "spam.bacon()"
   ]
  },
  {
   "cell_type": "markdown",
   "id": "4f822073",
   "metadata": {},
   "source": [
    "#13. What can you do to save a programme from crashing if it encounters an error?\n",
    "Answer: We can try to handle the error by rectifying the reason of error. If the error is a runtime error then we can use 'try' 'except' statement for handling runtime errors."
   ]
  },
  {
   "cell_type": "markdown",
   "id": "8215b401",
   "metadata": {},
   "source": [
    "#14. What is the purpose of the try clause? What is the purpose of the except clause?\n",
    "Answer: The purpose of try clause is to run a set of statements which can result into a runtime error. if runtime error occures then the except clause statement will get executed to prevent the crashing of program."
   ]
  }
 ],
 "metadata": {
  "kernelspec": {
   "display_name": "Python 3 (ipykernel)",
   "language": "python",
   "name": "python3"
  },
  "language_info": {
   "codemirror_mode": {
    "name": "ipython",
    "version": 3
   },
   "file_extension": ".py",
   "mimetype": "text/x-python",
   "name": "python",
   "nbconvert_exporter": "python",
   "pygments_lexer": "ipython3",
   "version": "3.9.6"
  }
 },
 "nbformat": 4,
 "nbformat_minor": 5
}
